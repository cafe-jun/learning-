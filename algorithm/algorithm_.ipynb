{
 "cells": [
  {
   "cell_type": "markdown",
   "metadata": {},
   "source": [
    "algorithm 1ch 1부터 n 까지 합구하기 "
   ]
  },
  {
   "cell_type": "code",
   "execution_count": 19,
   "metadata": {},
   "outputs": [],
   "source": [
    "#1부터 n 까지 합구하기\n",
    "#입력 n\n",
    "#출력 1부터 n까지의 합 \n",
    "def sum(n): #1부터 n까지 합을 구하는 함수 정의 \n",
    "    add=0 # 변수 초기화 \n",
    "    for i in range(1,n+1):# range는 이상과 미만으로 n번째 까지 숫자를 나타내려면 n+1를 해야한다 \n",
    "    \n",
    "        add=add+i# 합을 누적하는 코드 \n",
    "    \n",
    "    return add# for 문이 끝났으면 누적한 합을 return 한다 \n",
    "\n",
    "# n이 늘어나면 늘어 날수록 더하는 계산의 수가 늘어나기 때문에 계산 복잡도는 O(n) 입니다\n"
   ]
  },
  {
   "cell_type": "code",
   "execution_count": 20,
   "metadata": {},
   "outputs": [
    {
     "data": {
      "text/plain": [
       "5050"
      ]
     },
     "execution_count": 20,
     "metadata": {},
     "output_type": "execute_result"
    }
   ],
   "source": [
    "sum(100)"
   ]
  },
  {
   "cell_type": "markdown",
   "metadata": {},
   "source": [
    "합 공식을 이용하여 1부터 n 까지의 합을 구해보자 "
   ]
  },
  {
   "cell_type": "code",
   "execution_count": 23,
   "metadata": {},
   "outputs": [],
   "source": [
    "#1부터 n 까지 합구하기\n",
    "#입력 n\n",
    "#출력 1부터 n까지의 합 \n",
    "def sum_1(n): # 함수 정의 \n",
    "    add=0  # 변수 초기화 \n",
    "    add=n*(n+1)/2 # 1부터 n까지 구하는 합공식 \n",
    "    return add # add를 return 한다 "
   ]
  },
  {
   "cell_type": "code",
   "execution_count": 24,
   "metadata": {},
   "outputs": [
    {
     "data": {
      "text/plain": [
       "5050.0"
      ]
     },
     "execution_count": 24,
     "metadata": {},
     "output_type": "execute_result"
    }
   ],
   "source": [
    "sum_1(100)"
   ]
  },
  {
   "cell_type": "markdown",
   "metadata": {},
   "source": [
    "algorithm 2ch 최대 값 찾기  "
   ]
  },
  {
   "cell_type": "code",
   "execution_count": 58,
   "metadata": {},
   "outputs": [],
   "source": [
    "# 리스트에서 최대값 찾기 \n",
    "# 입력: 리스트를 입력\n",
    "# 출력: 리스트에서 가장 최대값 출력 \n",
    "\n",
    "# 리스트를 입력 받으려면 ??\n",
    "def list_max_for():\n",
    "    list_str=[] # 빈 리스트를 선언하고 \n",
    "    list_str =input(\"enter the number\").split(',') # 입력을 받고 ,로 구분을 해주면 가능하다 대신 각 요소는 str 이이다 \n",
    "    list_int=[int(i) for i in list_str] # input으로 받은 리스트는 str 구조인데 다시 int 구조로 바꾸는 코드 \n",
    "    list_unit=list_int[0]\n",
    "    for i in range(1,len(list_int)): # 각 요소를 비교하기 위하여 이중for문을 쓴다 ** \n",
    "        for j in range(i,len(list_int)): \n",
    "            print(\"현재의 list_unit은 \",list_unit)\n",
    "            if list_unit < list_int[j]: # 만약  [1,2,3,4] list가 있다고 하였을때 list_unit[0]이 1이기 때문에  1 < list_int[1,2,3]:과 비교를 \n",
    "                print(i,\"인덱스의\",list_unit,\"와\",j,\"인덱스의\",list_int[j],\"를 비교하자면 \",list_unit,\"<\",list_int[j])\n",
    "                list_unit=list_int[j] # 하게 됩니다. 이때 1보다 큰것이 있따면 \n",
    "                print(list_unit)\n",
    "    return list_unit\n",
    "\n",
    "    \n",
    "    \n",
    "\n"
   ]
  },
  {
   "cell_type": "code",
   "execution_count": 61,
   "metadata": {},
   "outputs": [
    {
     "name": "stdout",
     "output_type": "stream",
     "text": [
      "enter the number1,2\n",
      "현재의 list_unit은  1\n",
      "1 인덱스의 1 와 1 인덱스의 2 를 비교하자면  1 < 2\n",
      "2\n"
     ]
    },
    {
     "data": {
      "text/plain": [
       "2"
      ]
     },
     "execution_count": 61,
     "metadata": {},
     "output_type": "execute_result"
    }
   ],
   "source": [
    "list_max_for()"
   ]
  },
  {
   "cell_type": "code",
   "execution_count": 60,
   "metadata": {},
   "outputs": [],
   "source": [
    "# for문과 while 문의 계산의 숫자 비교 \n",
    "\n",
    "def list_max_while():\n",
    "    list_str=[] # 빈 리스트를 선언하고 \n",
    "    list_str =input(\"enter the number\").split(',') # 입력을 받고 ,로 구분을 해주면 가능하다 대신 각 요소는 str 이이다 \n",
    "    list_int=[int(i) for i in list_str] # input으로 받은 리스트는 str 구조인데 다시 int 구조로 바꾸는 코드 \n",
    "    list_unit=list_int[0]\n",
    "    i=0\n",
    "    j=1\n",
    "    while i<len(list_int): # 각 요소를 비교하기 위하여 이중for문을 쓴다 ** \n",
    "        while j<len(list_int): \n",
    "            print(\"현재의 list_unit은 \",list_unit)\n",
    "            if list_unit < list_int[j]: # 만약  [1,2,3,4] list가 있다고 하였을때 list_unit[0]이 1이기 때문에  1 < list_int[1,2,3]:과 비교를 \n",
    "                print(i,\"인덱스의\",list_unit,\"와\",j,\"인덱스의\",list_int[j],\"를 비교하자면 \",list_unit,\"<\",list_int[j])\n",
    "                list_unit=list_int[j] # 하게 됩니다. 이때 1보다 큰것이 있따면 \n",
    "                print(list_unit)\n",
    "                break\n",
    "            \n",
    "            j+=1\n",
    "        i+=1    \n",
    "    return list_unit"
   ]
  },
  {
   "cell_type": "code",
   "execution_count": 55,
   "metadata": {},
   "outputs": [
    {
     "name": "stdout",
     "output_type": "stream",
     "text": [
      "enter the number30,29,100,3,1,3,40,29,30\n",
      "현재의 list_unit은  30\n",
      "현재의 list_unit은  30\n",
      "0 인덱스의 30 와 2 인덱스의 100 를 비교하자면  30 < 100\n",
      "100\n",
      "현재의 list_unit은  100\n",
      "현재의 list_unit은  100\n",
      "현재의 list_unit은  100\n",
      "현재의 list_unit은  100\n",
      "현재의 list_unit은  100\n",
      "현재의 list_unit은  100\n",
      "현재의 list_unit은  100\n"
     ]
    },
    {
     "data": {
      "text/plain": [
       "100"
      ]
     },
     "execution_count": 55,
     "metadata": {},
     "output_type": "execute_result"
    }
   ],
   "source": [
    "list_max_while()"
   ]
  },
  {
   "cell_type": "markdown",
   "metadata": {},
   "source": [
    "algorithm 3ch 동명이인 찾기 "
   ]
  },
  {
   "cell_type": "code",
   "execution_count": 75,
   "metadata": {},
   "outputs": [],
   "source": [
    "# 딕셔너리 구조의 동명이인 찾기 \n",
    "# 입력 : 이름입력{}\n",
    "# 출력 : 동명이인 이름 출력 \n",
    "# 우선적으로 입력을 {} 구조로 넣어보자 \n",
    "\n",
    "def name_equl_for():\n",
    "    name_dic = {}\n",
    "    name_dic=input(\"enter the number :\").split(\",\")\n",
    "# 입력 구조를 넣어 보았다 \n",
    "# 입력된 자료를 통하여 각 요소를 비교하는 코드를 작성하자\n",
    "# 1차원 각배열을 비교하는 코드는 이중 for 이중 while 문이 있다 \n",
    "# 모든것을 비교하는 for문과 조건이 충족되면 멈추는 while 문중 이름 경우에는 동명이인 몇명인지 개수가 아니라 동명이인 이 있는지만 파악만 하는\n",
    "# 문제이기 때문에 동명이인을 찾았다면 멈추는 while 문이 효율적일수 있다 \n",
    "# 그래도 우선적으로 for문을 작성해보자 \n",
    "    name_equl=[]\n",
    "\n",
    "    #for i in range(0,len(name_dic)):\n",
    "    #    for j in range(i,len(name_dic)):\n",
    "    #        if name_dic[i] == name_dic[j]:# 동명이인을 찾았다면 name_equl에 저장해보자 \n",
    "    #            name_equl=name_equl.append(name_dic[i]) # append 함수를 이용하여 동명이인을 담아보자 \n",
    "    #return name_equl     \n"
   ]
  },
  {
   "cell_type": "code",
   "execution_count": 78,
   "metadata": {},
   "outputs": [
    {
     "name": "stdout",
     "output_type": "stream",
     "text": [
      "enter the number :jun.seok.jun.sin\n"
     ]
    },
    {
     "ename": "ValueError",
     "evalue": "empty separator",
     "output_type": "error",
     "traceback": [
      "\u001b[1;31m---------------------------------------------------------------------------\u001b[0m",
      "\u001b[1;31mValueError\u001b[0m                                Traceback (most recent call last)",
      "\u001b[1;32m<ipython-input-78-f73a7bb4d4eb>\u001b[0m in \u001b[0;36m<module>\u001b[1;34m()\u001b[0m\n\u001b[1;32m----> 1\u001b[1;33m \u001b[0mname_equl_for\u001b[0m\u001b[1;33m(\u001b[0m\u001b[1;33m)\u001b[0m\u001b[1;33m\u001b[0m\u001b[0m\n\u001b[0m",
      "\u001b[1;32m<ipython-input-75-b87a7efec0ac>\u001b[0m in \u001b[0;36mname_equl_for\u001b[1;34m()\u001b[0m\n\u001b[0;32m      6\u001b[0m \u001b[1;32mdef\u001b[0m \u001b[0mname_equl_for\u001b[0m\u001b[1;33m(\u001b[0m\u001b[1;33m)\u001b[0m\u001b[1;33m:\u001b[0m\u001b[1;33m\u001b[0m\u001b[0m\n\u001b[0;32m      7\u001b[0m     \u001b[0mname_dic\u001b[0m \u001b[1;33m=\u001b[0m \u001b[1;33m{\u001b[0m\u001b[1;33m}\u001b[0m\u001b[1;33m\u001b[0m\u001b[0m\n\u001b[1;32m----> 8\u001b[1;33m     \u001b[0mname_dic\u001b[0m\u001b[1;33m=\u001b[0m\u001b[0minput\u001b[0m\u001b[1;33m(\u001b[0m\u001b[1;34m\"enter the number :\"\u001b[0m\u001b[1;33m)\u001b[0m\u001b[1;33m.\u001b[0m\u001b[0msplit\u001b[0m\u001b[1;33m(\u001b[0m\u001b[1;34m''\u001b[0m\u001b[1;33m)\u001b[0m\u001b[1;33m\u001b[0m\u001b[0m\n\u001b[0m\u001b[0;32m      9\u001b[0m \u001b[1;31m# 입력 구조를 넣어 보았다\u001b[0m\u001b[1;33m\u001b[0m\u001b[1;33m\u001b[0m\u001b[0m\n\u001b[0;32m     10\u001b[0m \u001b[1;31m# 입력된 자료를 통하여 각 요소를 비교하는 코드를 작성하자\u001b[0m\u001b[1;33m\u001b[0m\u001b[1;33m\u001b[0m\u001b[0m\n",
      "\u001b[1;31mValueError\u001b[0m: empty separator"
     ]
    }
   ],
   "source": [
    "name_equl_for()"
   ]
  },
  {
   "cell_type": "code",
   "execution_count": null,
   "metadata": {},
   "outputs": [],
   "source": []
  }
 ],
 "metadata": {
  "kernelspec": {
   "display_name": "Python 3",
   "language": "python",
   "name": "python3"
  }
 },
 "nbformat": 4,
 "nbformat_minor": 2
}
