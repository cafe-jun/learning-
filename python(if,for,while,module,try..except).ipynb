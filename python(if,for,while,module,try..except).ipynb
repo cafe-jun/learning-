{
 "cells": [
  {
   "cell_type": "code",
   "execution_count": 2,
   "metadata": {},
   "outputs": [
    {
     "name": "stdout",
     "output_type": "stream",
     "text": [
      "1 * 1 = 1\n",
      "1 * 2 = 2\n",
      "1 * 3 = 3\n",
      "1 * 4 = 4\n",
      "1 * 5 = 5\n",
      "1 * 6 = 6\n",
      "1 * 7 = 7\n",
      "1 * 8 = 8\n",
      "1 * 9 = 9\n",
      "=======================\n",
      "2 * 1 = 2\n",
      "2 * 2 = 4\n",
      "2 * 3 = 6\n",
      "2 * 4 = 8\n",
      "2 * 5 = 10\n",
      "2 * 6 = 12\n",
      "2 * 7 = 14\n",
      "2 * 8 = 16\n",
      "2 * 9 = 18\n",
      "=======================\n",
      "3 * 1 = 3\n",
      "3 * 2 = 6\n",
      "3 * 3 = 9\n",
      "3 * 4 = 12\n",
      "3 * 5 = 15\n",
      "3 * 6 = 18\n",
      "3 * 7 = 21\n",
      "3 * 8 = 24\n",
      "3 * 9 = 27\n",
      "=======================\n",
      "4 * 1 = 4\n",
      "4 * 2 = 8\n",
      "4 * 3 = 12\n",
      "4 * 4 = 16\n",
      "4 * 5 = 20\n",
      "4 * 6 = 24\n",
      "4 * 7 = 28\n",
      "4 * 8 = 32\n",
      "4 * 9 = 36\n",
      "=======================\n",
      "5 * 1 = 5\n",
      "5 * 2 = 10\n",
      "5 * 3 = 15\n",
      "5 * 4 = 20\n",
      "5 * 5 = 25\n",
      "5 * 6 = 30\n",
      "5 * 7 = 35\n",
      "5 * 8 = 40\n",
      "5 * 9 = 45\n",
      "=======================\n",
      "6 * 1 = 6\n",
      "6 * 2 = 12\n",
      "6 * 3 = 18\n",
      "6 * 4 = 24\n",
      "6 * 5 = 30\n",
      "6 * 6 = 36\n",
      "6 * 7 = 42\n",
      "6 * 8 = 48\n",
      "6 * 9 = 54\n",
      "=======================\n",
      "7 * 1 = 7\n",
      "7 * 2 = 14\n",
      "7 * 3 = 21\n",
      "7 * 4 = 28\n",
      "7 * 5 = 35\n",
      "7 * 6 = 42\n",
      "7 * 7 = 49\n",
      "7 * 8 = 56\n",
      "7 * 9 = 63\n",
      "=======================\n",
      "8 * 1 = 8\n",
      "8 * 2 = 16\n",
      "8 * 3 = 24\n",
      "8 * 4 = 32\n",
      "8 * 5 = 40\n",
      "8 * 6 = 48\n",
      "8 * 7 = 56\n",
      "8 * 8 = 64\n",
      "8 * 9 = 72\n",
      "=======================\n",
      "9 * 1 = 9\n",
      "9 * 2 = 18\n",
      "9 * 3 = 27\n",
      "9 * 4 = 36\n",
      "9 * 5 = 45\n",
      "9 * 6 = 54\n",
      "9 * 7 = 63\n",
      "9 * 8 = 72\n",
      "9 * 9 = 81\n",
      "=======================\n"
     ]
    }
   ],
   "source": [
    "# 구구단 전체 출력하기 \n",
    "for i in range(1,10):\n",
    "    for j in range(1,10):\n",
    "        print(i,\"*\",j,\"=\",i*j)\n",
    "    print(\"=======================\")    \n",
    "        "
   ]
  },
  {
   "cell_type": "code",
   "execution_count": 1,
   "metadata": {},
   "outputs": [
    {
     "data": {
      "text/plain": [
       "[0, 1, 2, 3, 4, 5, 6, 7, 8, 9]"
      ]
     },
     "execution_count": 1,
     "metadata": {},
     "output_type": "execute_result"
    }
   ],
   "source": [
    "#리스트 생성 \n",
    "# 지금까지는 변수명에 []를 선언에 만들었다 \n",
    "# 그것을 넘어서 for에 리스트를 선언 해보자 \n",
    "lst_spl=[i for i in range(0,10)]\n",
    "lst_spl"
   ]
  },
  {
   "cell_type": "code",
   "execution_count": 2,
   "metadata": {},
   "outputs": [
    {
     "data": {
      "text/plain": [
       "[[0, 1, 2, 3, 4],\n",
       " [0, 1, 2, 3, 4],\n",
       " [0, 1, 2, 3, 4],\n",
       " [0, 1, 2, 3, 4],\n",
       " [0, 1, 2, 3, 4]]"
      ]
     },
     "execution_count": 2,
     "metadata": {},
     "output_type": "execute_result"
    }
   ],
   "source": [
    "#이차원 배열 \n",
    "lst_tmp2 = [[i for i in range(0,5)] for j in range(0,5)]\n",
    "lst_tmp2"
   ]
  },
  {
   "cell_type": "code",
   "execution_count": 9,
   "metadata": {},
   "outputs": [
    {
     "name": "stdout",
     "output_type": "stream",
     "text": [
      "enter num :1,2\n",
      "1\n",
      "2\n"
     ]
    }
   ],
   "source": [
    "#연속하여 자료를 입력 받아야 할때 \n",
    "num1,num2=input(\"enter num :\").split(\",\")\n",
    "print(num1)\n",
    "print(num2)"
   ]
  },
  {
   "cell_type": "code",
   "execution_count": 8,
   "metadata": {},
   "outputs": [
    {
     "name": "stdout",
     "output_type": "stream",
     "text": [
      "Enter Num5\n",
      "hello world\n",
      "hello world\n",
      "hello world\n",
      "hello world\n",
      "hello world\n"
     ]
    }
   ],
   "source": [
    "# while 문을 이용하여 hello 출력 \n",
    "\n",
    "num=int(input(\"Enter Num\"))\n",
    "\n",
    "cnt=0\n",
    "\n",
    "while cnt<num:\n",
    "    print(\"hello world\");\n",
    "    cnt+=1"
   ]
  },
  {
   "cell_type": "code",
   "execution_count": 1,
   "metadata": {},
   "outputs": [
    {
     "name": "stdout",
     "output_type": "stream",
     "text": [
      "Enter Number :5\n",
      "홀수!!\n"
     ]
    }
   ],
   "source": [
    "num = int(input(\"Enter Number :\"))\n",
    "\n",
    "# ashdjkashdjkhasjkdhjkashdjkasdjkhas\n",
    "\"\"\"\n",
    "print\n",
    "test\n",
    "안녕하세요\n",
    "계획대로 되고 있어 \n",
    "\"\"\"\n",
    "\n",
    "if num==0:\n",
    "    print(\"0입니다\")\n",
    "elif num%2==0:\n",
    "    print(\"짝수!!\")\n",
    "    print(\"짝수 출력에 성공하였습니다 \")\n",
    "\n",
    "elif num%2==1:\n",
    "    print(\"홀수!!\")\n",
    "else:\n",
    "    print(\"홀수 출력에 성공하였습니다.!\")\n",
    "    \n",
    "\n",
    "if num%2==0 and num%4==0:\n",
    "    print(\"짝수이며 4의 배수 입니다.\")"
   ]
  },
  {
   "cell_type": "code",
   "execution_count": null,
   "metadata": {},
   "outputs": [
    {
     "name": "stdout",
     "output_type": "stream",
     "text": [
      "Enter Menu Number :3\n",
      "Enter Menu Number :4\n",
      "You Enter Wrong Number!\n"
     ]
    }
   ],
   "source": [
    "# 함수 파트 예제 \n",
    "def print_menu():\n",
    "    print(\"1. 수정 \")\n",
    "    print(\"2. 조회\")\n",
    "    print(\"3. 종료\")\n",
    "\n",
    "def show_data():\n",
    "    pass\n",
    "\n",
    "def mod_data():\n",
    "    pass\n",
    "\n",
    "def exit_ps():\n",
    "    chk_flag=1\n",
    "\n",
    "def main():\n",
    "    select_num=input(\"Enter Menu Number :\")\n",
    "\n",
    "    if select_num=='1':\n",
    "        show_data()\n",
    "    elif select_num=='2':\n",
    "        mod_data()\n",
    "    elif select_num=='3':\n",
    "        exit_ps()\n",
    "    else:\n",
    "        print(\"You Enter Wrong Number!\")\n",
    "\n",
    "chk_flag=0\n",
    "\n",
    "while chk_flag==0:\n",
    "    main()"
   ]
  },
  {
   "cell_type": "code",
   "execution_count": null,
   "metadata": {},
   "outputs": [],
   "source": [
    "# 모듈\n",
    "import sys\n",
    "\n",
    "print(\"Params :\",sys.argv, \"type :\",type(sys.argv))"
   ]
  },
  {
   "cell_type": "code",
   "execution_count": 12,
   "metadata": {},
   "outputs": [],
   "source": [
    "import os # os 시스템에 관련 모듈 "
   ]
  },
  {
   "cell_type": "code",
   "execution_count": 10,
   "metadata": {},
   "outputs": [
    {
     "name": "stdout",
     "output_type": "stream",
     "text": [
      "파일을 확인해 주세요 \n"
     ]
    }
   ],
   "source": [
    "# 파일을 불러오고 싶은데 파일일 없다면 어떠한 에러 메시지를 출력하야 할까 ??\n",
    "# 예외 처리\n",
    "try:\n",
    "    open('qwe.txt','r') # qwe파일이 없다면 \n",
    "except FileNotFoundError:\n",
    "    print(\"파일을 확인해 주세요 \")"
   ]
  },
  {
   "cell_type": "code",
   "execution_count": 11,
   "metadata": {},
   "outputs": [
    {
     "name": "stdout",
     "output_type": "stream",
     "text": [
      "a를 만드세요\n",
      "종료되었습니다 \n"
     ]
    }
   ],
   "source": [
    "# 예외처리 예시 \n",
    "try:\n",
    "    print(a)\n",
    "except:\n",
    "    print(\"a를 만드세요\")\n",
    "else:\n",
    "    print(\"a가 있습니다\")\n",
    "finally:\n",
    "    print(\"종료되었습니다 \")"
   ]
  },
  {
   "cell_type": "code",
   "execution_count": null,
   "metadata": {},
   "outputs": [],
   "source": []
  }
 ],
 "metadata": {
  "kernelspec": {
   "display_name": "Python 3",
   "language": "python",
   "name": "python3"
  },
  "language_info": {
   "codemirror_mode": {
    "name": "ipython",
    "version": 3
   },
   "file_extension": ".py",
   "mimetype": "text/x-python",
   "name": "python",
   "nbconvert_exporter": "python",
   "pygments_lexer": "ipython3",
   "version": "3.7.0"
  }
 },
 "nbformat": 4,
 "nbformat_minor": 2
}
