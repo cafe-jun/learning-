{
 "cells": [
  {
   "cell_type": "markdown",
   "metadata": {},
   "source": [
    "에러처리\n",
    "exception list\n",
    "- https://docs.python.org/3/library/exceptions.html\n",
    "\n",
    "sublime text\n",
    "→ editor\n",
    "\n",
    "여러 형태의 파일 다루기\n",
    "1. csv-comma로 구분 (tsv)-tab으로 구분 \n",
    "- 구조화된 텍스트 파일\n",
    "\n",
    "quiz\n",
    "인구데이터를 가지고 남자의 평균을 출력\n",
    "\n",
    "\n",
    "최종 복습 퀴즈\n",
    "1. 재귀함수\n",
    "재귀함수를 이용한 2의 n제곱을 출력하는 함수 작성\n",
    "사용자에게 숫자를 입력받고 반복문이 아닌 재귀함수로 입력한 숫자만큼 2를 제곱한 값을 출력하는 함수 작성\n",
    "\n",
    "2. 성적처리\n",
    "어제 작성하던 성적 처리 프로그램을 오늘 배운 csv모듈로 데이터를 import 할 수 있도록 개선\n",
    "\n",
    "3. 성적처리 2\n",
    "어제 작성한 성적 처리 프로그램에서 수정사항 등을 반영하여 최종 성적 데이터를 json 형태로 저장하는 기능을 추가\n",
    "\n",
    "4. 로또 번호 추천 프로그램\n",
    "data 폴더의 lot.csv는 역대 로또 번호의 통계 이다\n",
    "이 번호 중에서 더 자주 나온 번호가, 더 자주 추천되도록 로또 번호를 생성하는 코드를 작성\n",
    "최종 추천 결과는 작은 수 부터 정렬이 되어 있어야 함\n",
    "ex) 역대 로또 번호가 1이 3번, 2가 10번 나왔다고 가정\n",
    "[2, 4, 6, 7, 10]\n",
    "[2, 8, 12, 24, 32]\n",
    "[1, 2, 4,10, 11, 43]\n",
    "\n",
    "\n",
    "\n"
   ]
  },
  {
   "cell_type": "code",
   "execution_count": null,
   "metadata": {},
   "outputs": [],
   "source": []
  }
 ],
 "metadata": {
  "kernelspec": {
   "display_name": "Python 3",
   "language": "python",
   "name": "python3"
  },
  "language_info": {
   "codemirror_mode": {
    "name": "ipython",
    "version": 3
   },
   "file_extension": ".py",
   "mimetype": "text/x-python",
   "name": "python",
   "nbconvert_exporter": "python",
   "pygments_lexer": "ipython3",
   "version": "3.7.0"
  }
 },
 "nbformat": 4,
 "nbformat_minor": 2
}
