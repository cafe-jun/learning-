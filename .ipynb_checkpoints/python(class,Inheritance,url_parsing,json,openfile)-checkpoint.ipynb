{
 "cells": [
  {
   "cell_type": "markdown",
   "metadata": {},
   "source": [
    "클래스의 정의   \n",
    "안에 메소드라는 것을 가지고 있다   \n",
    "클래스란 변수와 메소드를 가지고 한덩어리로 만드는 친구이다   \n",
    "self 이 함수를 부르는 객체가 해당 클래스인지 인스턴스인지 확인해주기 위한 장치   \n",
    "self 를 써 줘야지만 해당 함수를 인스턴스의 함수로 사용할 수 있게 됩니다 \n",
    "변수를 초기화 해주는 상태로 사용하고 싶다   \n",
    "def __init__(self,arg1,arg2,arg3) --> 반드시 전달받고싶은 argment를 적는다   \n",
    "    self.name=arg1  \n",
    "    self.addr=arg2  \n",
    "    self.eat=arg3  \n",
    "__init__ 초기화 메소드 : 이클래스가 선언될때 반드시 __init__ 부터 시작된다  \n",
    "이 메소드를 실행하고 나머지가 실행되기 때문에 __init__ 의 메소드에 대한 arg*을 채우고 나머지를 실행하여야 한다   \n",
    "클래스 상속   \n",
    "\n",
    "해당 메소드가 있으에도 불구하고 상속받은 클래스에서 메소드를 똑같이 정의해주면   \n",
    "새로 정의된 메소드가 오버라이드 해서 실행이 된다 즉 상속 받던 메소드가 사라진다  \n",
    "\n",
    "기존에 init을 추가 시키면서 새로 정의된 init을 사용하고 싶다   \n",
    "super().__init__(arg1)  \n",
    "기존에 있었던 메소드에 파라미터 값을 받아올수 있다   \n",
    "super를 사용하는 또다른 장점   \n",
    "코드 유지 보수가 매우 편리해 진다   \n",
    "\n",
    "\n",
    "================================================================================\n",
    "\n",
    "c 언어 stdio 를 불러와야한다   \n",
    "python 은 이미 모듈이 설치되어 있다     \n",
    "\n",
    "built-in = 이미 설치된 모듈  \n",
    "default.모듈 = 설치가 되어 있지만 import해서 써야하는 모듈   \n",
    "사용자 정의 모듈 ( 라이브러리 ) = 외부 모듈    \n",
    "\n",
    "= > tensorflow,  \n",
    "시스템의 의존성 해결 apt(우분투)  \n",
    "\n",
    "#pip install bs4  \n",
    "#pip search SQL  \n",
    "\n",
    "\n",
    "    \n",
    "\n"
   ]
  },
  {
   "cell_type": "markdown",
   "metadata": {},
   "source": [
    "파일 descripter   \n",
    "descripter 가 실행하겠다 -> stream(vector)(빨대)  \n",
    "vector 크기와 방향   \n",
    "읽기 스트림 -> 읽어 올수 있다 ( 쓰기는 안된다 )  \n",
    "쓰기 스트림 -> 데이터를 쓸수 있다   \n",
    "파일 입출력 절차   \n",
    " - 1 파일 스트림 생성   \n",
    " - 2 스트림에 맞는 파일 입출력 작업   \n",
    " - 3 파일 스트림 종료  \n",
    "read() 읽기 전용  \n",
    "\n",
    "seek() 책갈피  "
   ]
  },
  {
   "cell_type": "code",
   "execution_count": 1,
   "metadata": {},
   "outputs": [
    {
     "name": "stdout",
     "output_type": "stream",
     "text": [
      "3.14\n",
      "1\n"
     ]
    }
   ],
   "source": [
    "class test_cls():\n",
    "    PI=3.14\n",
    "    tmp=0\n",
    "    def __init__(self, arg1):\n",
    "        self.test=arg1\n",
    "\n",
    "\n",
    "    def sum(self, arg1, arg2):\n",
    "        return arg1+arg2\n",
    "\n",
    "    def mod_tmp(self, arg1):\n",
    "        self.tmp=arg1\n",
    "\n",
    "class test_cls2(test_cls):\n",
    "    name=''\n",
    "    addr=''\n",
    "    def __init__(self, arg1, arg2, arg3):\n",
    "        super().__init__(arg1)\n",
    "        #self.test=arg1\n",
    "        self.addr=arg2\n",
    "        self.new_param=arg3\n",
    "\n",
    "    def dev(self, arg1, arg2):\n",
    "        return arg1/arg2\n",
    "\n",
    "    def sum(self, arg1, arg2, arg3):\n",
    "        return arg1+arg2+arg3\n",
    "\n",
    "# first_cls=test_cls()\n",
    "# second_cls=test_cls()\n",
    "\n",
    "# first_cls.mod_tmp(10)\n",
    "# second_cls.mod_tmp(20)\n",
    "\n",
    "# print(first_cls.tmp, \" // \", second_cls.tmp)\n",
    "\n",
    "# first_cls=test_cls2()\n",
    "# print(first_cls.dev(4,2))\n",
    "# print(first_cls.sum(10,2))\n",
    "# print(first_cls.PI)\n",
    "\n",
    "cls_01=test_cls(123)\n",
    "cls_02=test_cls2(1,2,3)\n",
    "\n",
    "print(cls_01.PI)\n",
    "print(cls_02.test)\n",
    "\n"
   ]
  },
  {
   "cell_type": "code",
   "execution_count": 28,
   "metadata": {},
   "outputs": [],
   "source": [
    "from urllib import request"
   ]
  },
  {
   "cell_type": "code",
   "execution_count": 33,
   "metadata": {},
   "outputs": [],
   "source": [
    "import json\n",
    "DB=[]"
   ]
  },
  {
   "cell_type": "code",
   "execution_count": 57,
   "metadata": {},
   "outputs": [
    {
     "name": "stdout",
     "output_type": "stream",
     "text": [
      "b'[{\"timestamp\":1544597161325,\"tid\":\"4102920\",\"price\":\"100850\",\"amount\":\"31.09022558\"},{\"timestamp\":1544597161122,\"tid\":\"4102919\",\"price\":\"100850\",\"amount\":\"11.42\"},{\"timestamp\":1544597150859,\"tid\":\"4102918\",\"price\":\"100850\",\"amount\":\"0.00038225\"},{\"timestamp\":1544597150610,\"tid\":\"4102917\",\"price\":\"100850\",\"amount\":\"9.067\"},{\"timestamp\":1544597144672,\"tid\":\"4102916\",\"price\":\"100850\",\"amount\":\"14.42\"},{\"timestamp\":1544597138832,\"tid\":\"4102915\",\"price\":\"100850\",\"amount\":\"15.52\"},{\"timestamp\":1544597138607,\"tid\":\"4102914\",\"price\":\"100800\",\"amount\":\"17.67\"},{\"timestamp\":1544597132607,\"tid\":\"4102913\",\"price\":\"100800\",\"amount\":\"13.13\"},{\"timestamp\":1544597118611,\"tid\":\"4102912\",\"price\":\"100800\",\"amount\":\"3.721\"},{\"timestamp\":1544597117318,\"tid\":\"4102911\",\"price\":\"100800\",\"amount\":\"2.05\"},{\"timestamp\":1544597117104,\"tid\":\"4102910\",\"price\":\"100750\",\"amount\":\"3.12\"},{\"timestamp\":1544597116893,\"tid\":\"4102909\",\"price\":\"100750\",\"amount\":\"1.073\"},{\"timestamp\":1544597116236,\"tid\":\"4102908\",\"price\":\"100750\",\"amount\":\"4.887\"},{\"timestamp\":1544597116033,\"tid\":\"4102907\",\"price\":\"100700\",\"amount\":\"3.36\"},{\"timestamp\":1544597115820,\"tid\":\"4102906\",\"price\":\"100700\",\"amount\":\"2.92\"},{\"timestamp\":1544597115607,\"tid\":\"4102905\",\"price\":\"100700\",\"amount\":\"7.12\"},{\"timestamp\":1544597107403,\"tid\":\"4102904\",\"price\":\"100500\",\"amount\":\"4.27\"},{\"timestamp\":1544597107194,\"tid\":\"4102903\",\"price\":\"100500\",\"amount\":\"0.3\"},{\"timestamp\":1544597106977,\"tid\":\"4102902\",\"price\":\"100500\",\"amount\":\"1.96\"},{\"timestamp\":1544597106603,\"tid\":\"4102901\",\"price\":\"100500\",\"amount\":\"12.66\"},{\"timestamp\":1544597105727,\"tid\":\"4102900\",\"price\":\"100450\",\"amount\":\"2.05907604\"},{\"timestamp\":1544597104886,\"tid\":\"4102899\",\"price\":\"100500\",\"amount\":\"15.38\"},{\"timestamp\":1544597103842,\"tid\":\"4102898\",\"price\":\"100400\",\"amount\":\"0.3\"},{\"timestamp\":1544597103620,\"tid\":\"4102897\",\"price\":\"100400\",\"amount\":\"3.03\"},{\"timestamp\":1544597103170,\"tid\":\"4102896\",\"price\":\"100400\",\"amount\":\"15.58\"},{\"timestamp\":1544597086641,\"tid\":\"4102895\",\"price\":\"100400\",\"amount\":\"11.39\"},{\"timestamp\":1544597086418,\"tid\":\"4102894\",\"price\":\"100400\",\"amount\":\"1.47\"},{\"timestamp\":1544597064223,\"tid\":\"4102893\",\"price\":\"100250\",\"amount\":\"1\"},{\"timestamp\":1544597052164,\"tid\":\"4102892\",\"price\":\"100200\",\"amount\":\"0.3\"},{\"timestamp\":1544597008474,\"tid\":\"4102891\",\"price\":\"100150\",\"amount\":\"3.50327508736894658\"},{\"timestamp\":1544597008280,\"tid\":\"4102890\",\"price\":\"100100\",\"amount\":\"5\"},{\"timestamp\":1544597008084,\"tid\":\"4102889\",\"price\":\"100100\",\"amount\":\"14.471998001998001998\"},{\"timestamp\":1544596978814,\"tid\":\"4102888\",\"price\":\"100100\",\"amount\":\"1.698001998001998002\"},{\"timestamp\":1544596978602,\"tid\":\"4102887\",\"price\":\"100100\",\"amount\":\"0.3\"},{\"timestamp\":1544596790103,\"tid\":\"4102886\",\"price\":\"100050\",\"amount\":\"0.899550224887556222\"},{\"timestamp\":1544596716608,\"tid\":\"4102885\",\"price\":\"100000\",\"amount\":\"37.5030956104\"},{\"timestamp\":1544596625274,\"tid\":\"4102884\",\"price\":\"99950\",\"amount\":\"5.481210605302651326\"},{\"timestamp\":1544596625092,\"tid\":\"4102883\",\"price\":\"99950\",\"amount\":\"1\"},{\"timestamp\":1544596554643,\"tid\":\"4102882\",\"price\":\"99800\",\"amount\":\"0.00013918\"},{\"timestamp\":1544596381608,\"tid\":\"4102881\",\"price\":\"99750\",\"amount\":\"0.13404636\"},{\"timestamp\":1544596350088,\"tid\":\"4102880\",\"price\":\"99800\",\"amount\":\"1.482\"},{\"timestamp\":1544596346171,\"tid\":\"4102879\",\"price\":\"99800\",\"amount\":\"2.519\"},{\"timestamp\":1544596339186,\"tid\":\"4102878\",\"price\":\"99750\",\"amount\":\"4.11\"},{\"timestamp\":1544596141605,\"tid\":\"4102877\",\"price\":\"99600\",\"amount\":\"9.996\"},{\"timestamp\":1544596128103,\"tid\":\"4102876\",\"price\":\"99450\",\"amount\":\"0.4\"},{\"timestamp\":1544595983594,\"tid\":\"4102875\",\"price\":\"99300\",\"amount\":\"0.631\"},{\"timestamp\":1544595811100,\"tid\":\"4102874\",\"price\":\"99300\",\"amount\":\"15.1057\"},{\"timestamp\":1544595675618,\"tid\":\"4102873\",\"price\":\"99350\",\"amount\":\"0.201308505284348264\"},{\"timestamp\":1544595520622,\"tid\":\"4102872\",\"price\":\"99350\",\"amount\":\"1.10719677906391545\"},{\"timestamp\":1544595404147,\"tid\":\"4102871\",\"price\":\"99350\",\"amount\":\"30.196275792652239557\"},{\"timestamp\":1544595385125,\"tid\":\"4102870\",\"price\":\"99250\",\"amount\":\"5.66671234\"},{\"timestamp\":1544595337603,\"tid\":\"4102869\",\"price\":\"99250\",\"amount\":\"2.09521358\"},{\"timestamp\":1544595242107,\"tid\":\"4102868\",\"price\":\"99250\",\"amount\":\"10.0755\"},{\"timestamp\":1544595163690,\"tid\":\"4102867\",\"price\":\"99200\",\"amount\":\"17.71\"},{\"timestamp\":1544595152372,\"tid\":\"4102866\",\"price\":\"99050\",\"amount\":\"1.97661774\"},{\"timestamp\":1544595152161,\"tid\":\"4102865\",\"price\":\"99050\",\"amount\":\"100\"},{\"timestamp\":1544595151949,\"tid\":\"4102864\",\"price\":\"99050\",\"amount\":\"18\"},{\"timestamp\":1544595151733,\"tid\":\"4102863\",\"price\":\"99150\",\"amount\":\"10.059\"},{\"timestamp\":1544595151487,\"tid\":\"4102862\",\"price\":\"99250\",\"amount\":\"14.57\"},{\"timestamp\":1544595151260,\"tid\":\"4102861\",\"price\":\"99250\",\"amount\":\"7.29\"},{\"timestamp\":1544595151045,\"tid\":\"4102860\",\"price\":\"99300\",\"amount\":\"10.06\"},{\"timestamp\":1544595150834,\"tid\":\"4102859\",\"price\":\"99300\",\"amount\":\"0.1\"},{\"timestamp\":1544595150607,\"tid\":\"4102858\",\"price\":\"99300\",\"amount\":\"2.4\"},{\"timestamp\":1544595041108,\"tid\":\"4102857\",\"price\":\"99400\",\"amount\":\"7.623\"},{\"timestamp\":1544595012087,\"tid\":\"4102856\",\"price\":\"99400\",\"amount\":\"0.29376258\"},{\"timestamp\":1544595010601,\"tid\":\"4102855\",\"price\":\"99400\",\"amount\":\"2.70623742\"},{\"timestamp\":1544595002106,\"tid\":\"4102854\",\"price\":\"99450\",\"amount\":\"3.042\"},{\"timestamp\":1544594947621,\"tid\":\"4102853\",\"price\":\"99450\",\"amount\":\"1.019\"},{\"timestamp\":1544594938804,\"tid\":\"4102852\",\"price\":\"99450\",\"amount\":\"4.9724\"},{\"timestamp\":1544594938607,\"tid\":\"4102851\",\"price\":\"99450\",\"amount\":\"5.0276\"},{\"timestamp\":1544594912089,\"tid\":\"4102850\",\"price\":\"99450\",\"amount\":\"1\"},{\"timestamp\":1544594874673,\"tid\":\"4102849\",\"price\":\"99450\",\"amount\":\"5.02558896\"},{\"timestamp\":1544594712847,\"tid\":\"4102848\",\"price\":\"99450\",\"amount\":\"1.212669683257918552\"},{\"timestamp\":1544594712616,\"tid\":\"4102847\",\"price\":\"99400\",\"amount\":\"1\"},{\"timestamp\":1544594697628,\"tid\":\"4102846\",\"price\":\"99400\",\"amount\":\"1.3857\"},{\"timestamp\":1544594695785,\"tid\":\"4102845\",\"price\":\"99400\",\"amount\":\"3.647\"},{\"timestamp\":1544594695590,\"tid\":\"4102844\",\"price\":\"99400\",\"amount\":\"13.33\"},{\"timestamp\":1544594551155,\"tid\":\"4102843\",\"price\":\"99450\",\"amount\":\"13.35\"},{\"timestamp\":1544594550209,\"tid\":\"4102842\",\"price\":\"99300\",\"amount\":\"3.7453\"},{\"timestamp\":1544594550005,\"tid\":\"4102841\",\"price\":\"99300\",\"amount\":\"0.763\"},{\"timestamp\":1544594549784,\"tid\":\"4102840\",\"price\":\"99350\",\"amount\":\"5.0327\"},{\"timestamp\":1544594549591,\"tid\":\"4102839\",\"price\":\"99350\",\"amount\":\"3.065\"},{\"timestamp\":1544594544332,\"tid\":\"4102838\",\"price\":\"99350\",\"amount\":\"9.996\"},{\"timestamp\":1544594541095,\"tid\":\"4102837\",\"price\":\"99350\",\"amount\":\"1.999\"},{\"timestamp\":1544594516860,\"tid\":\"4102836\",\"price\":\"99400\",\"amount\":\"1.006036217303822938\"},{\"timestamp\":1544594516594,\"tid\":\"4102835\",\"price\":\"99300\",\"amount\":\"9.237\"},{\"timestamp\":1544594508133,\"tid\":\"4102834\",\"price\":\"99550\",\"amount\":\"1.616\"},{\"timestamp\":1544594507239,\"tid\":\"4102833\",\"price\":\"99550\",\"amount\":\"10.072\"},{\"timestamp\":1544594503282,\"tid\":\"4102832\",\"price\":\"99400\",\"amount\":\"4.697\"},{\"timestamp\":1544594502925,\"tid\":\"4102831\",\"price\":\"99600\",\"amount\":\"4.059327309236947791\"},{\"timestamp\":1544594502693,\"tid\":\"4102830\",\"price\":\"99550\",\"amount\":\"14.02\"},{\"timestamp\":1544594500123,\"tid\":\"4102829\",\"price\":\"99500\",\"amount\":\"2.7\"},{\"timestamp\":1544594499121,\"tid\":\"4102828\",\"price\":\"99500\",\"amount\":\"4.865\"},{\"timestamp\":1544594498461,\"tid\":\"4102827\",\"price\":\"99450\",\"amount\":\"8.776488\"},{\"timestamp\":1544594497109,\"tid\":\"4102826\",\"price\":\"99450\",\"amount\":\"2.7\"},{\"timestamp\":1544594496595,\"tid\":\"4102825\",\"price\":\"99500\",\"amount\":\"13.97\"},{\"timestamp\":1544594495077,\"tid\":\"4102824\",\"price\":\"99400\",\"amount\":\"5.602\"},{\"timestamp\":1544594494022,\"tid\":\"4102823\",\"price\":\"100000\",\"amount\":\"63.0848763196\"},{\"timestamp\":1544594493830,\"tid\":\"4102822\",\"price\":\"100000\",\"amount\":\"20\"},{\"timestamp\":1544594493630,\"tid\":\"4102821\",\"price\":\"100000\",\"amount\":\"0.3\"},{\"timestamp\":1544594493437,\"tid\":\"4102820\",\"price\":\"99950\",\"amount\":\"3.24\"},{\"timestamp\":1544594493237,\"tid\":\"4102819\",\"price\":\"99950\",\"amount\":\"2.09\"},{\"timestamp\":1544594493024,\"tid\":\"4102818\",\"price\":\"99950\",\"amount\":\"0.3\"},{\"timestamp\":1544594492827,\"tid\":\"4102817\",\"price\":\"99900\",\"amount\":\"0.2\"},{\"timestamp\":1544594492645,\"tid\":\"4102816\",\"price\":\"99850\",\"amount\":\"3.15\"},{\"timestamp\":1544594492454,\"tid\":\"4102815\",\"price\":\"99750\",\"amount\":\"6.85\"},{\"timestamp\":1544594492274,\"tid\":\"4102814\",\"price\":\"99750\",\"amount\":\"2.1\"},{\"timestamp\":1544594492071,\"tid\":\"4102813\",\"price\":\"99750\",\"amount\":\"0.3\"},{\"timestamp\":1544594491855,\"tid\":\"4102812\",\"price\":\"99600\",\"amount\":\"1.77\"},{\"timestamp\":1544594491663,\"tid\":\"4102811\",\"price\":\"99500\",\"amount\":\"7.31\"},{\"timestamp\":1544594491461,\"tid\":\"4102810\",\"price\":\"99500\",\"amount\":\"1.65\"},{\"timestamp\":1544594491242,\"tid\":\"4102809\",\"price\":\"99500\",\"amount\":\"10.74\"},{\"timestamp\":1544594491011,\"tid\":\"4102808\",\"price\":\"99450\",\"amount\":\"2.0235\"},{\"timestamp\":1544594490819,\"tid\":\"4102807\",\"price\":\"99450\",\"amount\":\"14.82\"},{\"timestamp\":1544594490618,\"tid\":\"4102806\",\"price\":\"99350\",\"amount\":\"0.30267532\"},{\"timestamp\":1544594479868,\"tid\":\"4102805\",\"price\":\"99350\",\"amount\":\"0.69732468\"},{\"timestamp\":1544594479593,\"tid\":\"4102804\",\"price\":\"99350\",\"amount\":\"1.65647532\"},{\"timestamp\":1544594360105,\"tid\":\"4102803\",\"price\":\"99350\",\"amount\":\"8\"},{\"timestamp\":1544594186620,\"tid\":\"4102802\",\"price\":\"99300\",\"amount\":\"1.79200403\"},{\"timestamp\":1544594072286,\"tid\":\"4102801\",\"price\":\"99300\",\"amount\":\"1.815\"},{\"timestamp\":1544594072089,\"tid\":\"4102800\",\"price\":\"99300\",\"amount\":\"3.24\"},{\"timestamp\":1544594050123,\"tid\":\"4102799\",\"price\":\"99150\",\"amount\":\"1.5906\"},{\"timestamp\":1544593949831,\"tid\":\"4102798\",\"price\":\"99250\",\"amount\":\"4.827\"},{\"timestamp\":1544593899888,\"tid\":\"4102797\",\"price\":\"99250\",\"amount\":\"5.042\"},{\"timestamp\":1544593899690,\"tid\":\"4102796\",\"price\":\"99250\",\"amount\":\"2.4\"}]'\n"
     ]
    }
   ],
   "source": [
    "url=\"https://api.korbit.co.kr/v1/transactions?currency_pair=eth_krw\"\n",
    "#stream(데이터 통로 )을 생성한다 (빨대)\n",
    "request_json=request.urlopen(url)\n",
    "#파일 stream 생성 \n",
    "data=request_json.read()\n",
    "print(data)\n",
    "# 앞의 b 는 binary 파일 형태 \n",
    "# read는 str 형태로 반환을 해준다 \n"
   ]
  },
  {
   "cell_type": "code",
   "execution_count": 41,
   "metadata": {},
   "outputs": [
    {
     "name": "stdout",
     "output_type": "stream",
     "text": [
      "[''] 1 <class 'list'>\n",
      "<class 'str'>\n"
     ]
    }
   ],
   "source": [
    "# json 모듈을 사용하기 전 \n",
    "# stream 개념 복습 \n",
    "DB=[]\n",
    "\n",
    "for line in request_json.read().decode(\"utf-8\").split('},'):# 중괄호 쉽표 자르기 \n",
    "    DB.append(line)\n",
    "    \n",
    "print(DB[0:3],len(DB),type(DB))\n",
    "print(type(DB[0]))"
   ]
  },
  {
   "cell_type": "code",
   "execution_count": 4,
   "metadata": {},
   "outputs": [],
   "source": [
    "#json 파일은 딕셔너리 형태이다 \n",
    "from urllib import request\n",
    "import json\n",
    "#json 모듈로 이 딕셔너리 값을 "
   ]
  },
  {
   "cell_type": "code",
   "execution_count": 5,
   "metadata": {},
   "outputs": [
    {
     "data": {
      "text/plain": [
       "<http.client.HTTPResponse at 0x27667727ac8>"
      ]
     },
     "execution_count": 5,
     "metadata": {},
     "output_type": "execute_result"
    }
   ],
   "source": [
    "url1=\"https://api.korbit.co.kr/v1/ticker/detailed?currency_pair=xrp_krw\"\n",
    "request_json1=request.urlopen(url1)\n",
    "request_json1"
   ]
  },
  {
   "cell_type": "code",
   "execution_count": 6,
   "metadata": {},
   "outputs": [
    {
     "name": "stdout",
     "output_type": "stream",
     "text": [
      "{'timestamp': 1544597650910, 'last': '341.4', 'bid': '340.9', 'ask': '341.4', 'low': '334', 'high': '345.4', 'volume': '3568781.744037472268661866', 'change': '-3.8', 'changePercent': '-1.1'}\n"
     ]
    }
   ],
   "source": [
    "\n",
    "read_data=request_json1.read()\n",
    "data1=json.loads(read_data)\n",
    "print(data1)"
   ]
  },
  {
   "cell_type": "code",
   "execution_count": 27,
   "metadata": {},
   "outputs": [],
   "source": [
    "good=[]\n",
    "for i in data1:\n",
    "    s=data1[i]\n",
    "    good.append(s)\n",
    "    \n",
    "   "
   ]
  },
  {
   "cell_type": "code",
   "execution_count": 28,
   "metadata": {},
   "outputs": [
    {
     "name": "stdout",
     "output_type": "stream",
     "text": [
      "[1544597650910, '341.4', '340.9', '341.4', '334', '345.4', '3568781.744037472268661866', '-3.8', '-1.1']\n"
     ]
    }
   ],
   "source": [
    "print(good)"
   ]
  },
  {
   "cell_type": "code",
   "execution_count": 42,
   "metadata": {},
   "outputs": [
    {
     "data": {
      "text/plain": [
       "1544597651251.4"
      ]
     },
     "execution_count": 42,
     "metadata": {},
     "output_type": "execute_result"
    }
   ],
   "source": [
    "float(good[0])+float(good[1])"
   ]
  },
  {
   "cell_type": "code",
   "execution_count": 73,
   "metadata": {},
   "outputs": [
    {
     "name": "stdout",
     "output_type": "stream",
     "text": [
      "171622357932.21594\n"
     ]
    }
   ],
   "source": [
    "add=0\n",
    "for i in range(0,9):\n",
    "    add=+add+float(good[i])\n",
    "    if i == 8 :\n",
    "        mean=add/len(good)\n",
    "        \n",
    "print(mean)       "
   ]
  },
  {
   "cell_type": "code",
   "execution_count": 52,
   "metadata": {},
   "outputs": [
    {
     "data": {
      "text/plain": [
       "[1544597650910,\n",
       " '341.4',\n",
       " '340.9',\n",
       " '341.4',\n",
       " '334',\n",
       " '345.4',\n",
       " '3568781.744037472268661866',\n",
       " '-3.8',\n",
       " '-1.1']"
      ]
     },
     "execution_count": 52,
     "metadata": {},
     "output_type": "execute_result"
    }
   ],
   "source": [
    "good"
   ]
  },
  {
   "cell_type": "code",
   "execution_count": 53,
   "metadata": {},
   "outputs": [
    {
     "data": {
      "text/plain": [
       "<http.client.HTTPResponse at 0x27667819f28>"
      ]
     },
     "execution_count": 53,
     "metadata": {},
     "output_type": "execute_result"
    }
   ],
   "source": [
    "url2=\"https://api.korbit.co.kr/v1/ticker/detailed?currency_pair=btc_krw\"\n",
    "request_json2=request.urlopen(url2)\n",
    "request_json2"
   ]
  },
  {
   "cell_type": "code",
   "execution_count": 54,
   "metadata": {},
   "outputs": [
    {
     "name": "stdout",
     "output_type": "stream",
     "text": [
      "{'timestamp': 1544599056762, 'last': '3846000', 'bid': '3849000', 'ask': '3853500', 'low': '3781500', 'high': '3891500', 'volume': '714.745191654391285749', 'change': '-24500', 'changePercent': '-0.63'}\n"
     ]
    }
   ],
   "source": [
    "read_data2=request_json2.read()\n",
    "data2=json.loads(read_data2)\n",
    "print(data2)"
   ]
  },
  {
   "cell_type": "code",
   "execution_count": 56,
   "metadata": {},
   "outputs": [],
   "source": [
    "good1=[]\n",
    "for i in data2:\n",
    "    s=data2[i]\n",
    "    good1.append(s)"
   ]
  },
  {
   "cell_type": "code",
   "execution_count": 74,
   "metadata": {},
   "outputs": [
    {
     "name": "stdout",
     "output_type": "stream",
     "text": [
      "171622357932.21594\n"
     ]
    }
   ],
   "source": [
    "add1=0\n",
    "mean1=0\n",
    "for i in range(0,9):\n",
    "    add1=add1+float(good[i])\n",
    "    if i == 8:\n",
    "        mean1=add1/len(good1)\n",
    "\n",
    "print(mean1)"
   ]
  }
 ],
 "metadata": {
  "kernelspec": {
   "display_name": "Python 3",
   "language": "python",
   "name": "python3"
  },
  "language_info": {
   "codemirror_mode": {
    "name": "ipython",
    "version": 3
   },
   "file_extension": ".py",
   "mimetype": "text/x-python",
   "name": "python",
   "nbconvert_exporter": "python",
   "pygments_lexer": "ipython3",
   "version": "3.7.0"
  }
 },
 "nbformat": 4,
 "nbformat_minor": 2
}
